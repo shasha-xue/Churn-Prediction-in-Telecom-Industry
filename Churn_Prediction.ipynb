{
 "cells": [
  {
   "cell_type": "markdown",
   "metadata": {},
   "source": [
    "## Churn Prediction within Telecom Industry"
   ]
  },
  {
   "cell_type": "markdown",
   "metadata": {},
   "source": [
    "####  Preparing a Training Set and Training a Decision Tree\n",
    "\n",
    "These historical data consist of 39,859 customers: 19,901 customers that churned (i.e., left the company) and 19,958 that did not churn (see the `\"churndep\"` variable). Here are the data set's 11 possible predictor variables for churning behavior: \n",
    "\n",
    "```\n",
    "Pos.  Var. Name  Var. Description\n",
    "----- ---------- --------------------------------------------------------------\n",
    "1     revenue    Mean monthly revenue in dollars\n",
    "2     outcalls   Mean number of outbound voice calls\n",
    "3     incalls    Mean number of inbound voice calls\n",
    "4     months     Months in Service\n",
    "5     eqpdays    Number of days the customer has had his/her current equipment\n",
    "6     webcap     Handset is web capable\n",
    "7     marryyes   Married (1=Yes; 0=No)\n",
    "8     travel     Has traveled to non-US country (1=Yes; 0=No)\n",
    "9     pcown      Owns a personal computer (1=Yes; 0=No)\n",
    "10    creditcd   Possesses a credit card (1=Yes; 0=No)\n",
    "11    retcalls   Number of calls previously made to retention team\n",
    "```\n",
    "\n",
    "The 12th column, the dependent variable `\"churndep\"`, equals 1 if the customer churned, and 0 otherwise. "
   ]
  },
  {
   "cell_type": "markdown",
   "metadata": {},
   "source": [
    "1\\. Load the data and prepare it for modeling. Note that the features are already processed for you, so the only thing needed here is split the data into training and testing. Use pandas to create two data frames: train_df and test_df, where train_df has 80% of the data chosen uniformly at random without replacement (test_df should have the other 20%).<br><br>\n"
   ]
  },
  {
   "cell_type": "code",
   "execution_count": 1,
   "metadata": {
    "collapsed": true
   },
   "outputs": [],
   "source": [
    "import pandas as pd\n",
    "import numpy as np\n",
    "import scipy as sp\n",
    "import matplotlib.pyplot as plt\n",
    "\n",
    "from sklearn.tree import DecisionTreeClassifier"
   ]
  },
  {
   "cell_type": "code",
   "execution_count": 2,
   "metadata": {
    "collapsed": true
   },
   "outputs": [],
   "source": [
    "# Function to split the data set into training and test data according to the train_percetage\n",
    "def splitdf(df,train_percentage):\n",
    "    \n",
    "    # sample() returns random sample of items of dataframe to train_df, where frac specifies the fraction of rows of whole to be returned \n",
    "    # random_state is used as a seed for the random number generator\n",
    "    train_df = df.sample(frac= (train_percentage*0.01), random_state=100)\n",
    "   \n",
    "    # Using drop() to drop all rows with indices in train_df and store rest in test_df\n",
    "    test_df = df.drop(train_df.index)\n",
    "    \n",
    "    return(train_df, test_df)"
   ]
  },
  {
   "cell_type": "code",
   "execution_count": 3,
   "metadata": {
    "collapsed": true
   },
   "outputs": [],
   "source": [
    "df = pd.read_csv(\"cell2cell_data.csv\")\n",
    "df.columns = [\"revenue\", \"outcalls\", \"incalls\", \"months\", \"eqpdays\", \"webcap\", \"marryyes\", \"travel\", \"pcown\", \"creditcd\", \"retcalls\", \"churnedep\"]\n",
    "\n",
    "# Calling splitdf() function above to split the data set into 80% training and rest i.e. 20% in test\n",
    "train_df , test_df = splitdf(df, train_percentage =80)"
   ]
  },
  {
   "cell_type": "markdown",
   "metadata": {},
   "source": [
    "2\\. If we had to, how would we prove to ourselves or a colleague that our data was indeed randomly sampled on X? \n",
    "\n"
   ]
  },
  {
   "cell_type": "markdown",
   "metadata": {},
   "source": [
    "<p>\n",
    "<span style=\"color:blue\">\n",
    "To show that our data is indeed radomly sampled, we can train our model with the training data and check the accuracy on both training and test data. If our training data would have a selection bias, i.e. it is not representative of the overall population, it would have a good training accuracy but test accuracy would be poor, since the test data could have general examples as well, that were not similar to the training data that was selectively chosen. \n",
    "We can also check for AUC when we have imbalanced classes, it is useful to report AUC for precision recall curve and if it is 0.5 it means its a random model.\n",
    "<br>\n",
    "Another way to visually see if their is a selection bias in this case, would be plotting histogram taking the target varibale for the all examples in the original data set and all examples in randomly sampled training data and see if the histogram of train data is representative of the entire population like the entire data set. For example, if we selectively had chosen training set with most examples with target varible labeled as 1, the histogram would show us that the examples in training data are not representative of the entire population as in the entire data set\n",
    "</span>\n",
    "</p>"
   ]
  },
  {
   "cell_type": "markdown",
   "metadata": {},
   "source": [
    "3\\. Build and train a decision tree classifier using `DecisionTreeClassifier()` on train_df to predict the `\"churndep\"` target variable. \n"
   ]
  },
  {
   "cell_type": "code",
   "execution_count": 4,
   "metadata": {
    "collapsed": true
   },
   "outputs": [],
   "source": [
    "# Choosing splitting criterion as Entropy\n",
    "dtc_model = DecisionTreeClassifier(criterion = \"entropy\")\n",
    "# x_train stores the train_df features without target variable column\n",
    "x_train = train_df.drop(\"churnedep\",1)\n",
    "# y_train stores the target variable column with label\n",
    "y_train = train_df.churnedep\n",
    "# decision tree classifier from the training set(x_train) and label(y_train)\n",
    "dtc_model = dtc_model.fit(x_train,y_train)"
   ]
  },
  {
   "cell_type": "markdown",
   "metadata": {},
   "source": [
    "4\\. Show a bar plot of feature names and their feature importance."
   ]
  },
  {
   "cell_type": "code",
   "execution_count": 5,
   "metadata": {},
   "outputs": [
    {
     "data": {
      "image/png": "[encoded data removed]",
      "text/plain": [
       "<matplotlib.figure.Figure at 0x117718080>"
      ]
     },
     "metadata": {},
     "output_type": "display_data"
    }
   ],
   "source": [
    "fig, ax = plt.subplots()\n",
    "# setting the height of the bar as the feature importances returned by feature_imporantances_attribute\n",
    "ax.bar(np.arange((len(df.columns)-1)), dtc_model.feature_importances_, width = 0.5)\n",
    "ax.set_xticks(np.arange(len(dtc_model.feature_importances_)))\n",
    "# Setting x tick labels with the names of the columns \n",
    "ax.set_xticklabels(x_train.columns.values,rotation=90)\n",
    "plt.title('Feature Importance from DT')\n",
    "ax.set_ylabel('Importance')\n",
    "#Show the bar chart\n",
    "plt.show()"
   ]
  },
  {
   "cell_type": "markdown",
   "metadata": {},
   "source": [
    "5\\. Is the relationship between the top 3 most important features (as measured here) negative or positive? How would you interpret the relationship between these 3 features and the churn outcome?  What \"real-life\" connection can you draw between each variable and churn?\n"
   ]
  },
  {
   "cell_type": "code",
   "execution_count": 6,
   "metadata": {},
   "outputs": [
    {
     "data": {
      "text/html": [
       "<div>\n",
       "<style>\n",
       "    .dataframe thead tr:only-child th {\n",
       "        text-align: right;\n",
       "    }\n",
       "\n",
       "    .dataframe thead th {\n",
       "        text-align: left;\n",
       "    }\n",
       "\n",
       "    .dataframe tbody tr th {\n",
       "        vertical-align: top;\n",
       "    }\n",
       "</style>\n",
       "<table border=\"1\" class=\"dataframe\">\n",
       "  <thead>\n",
       "    <tr style=\"text-align: right;\">\n",
       "      <th></th>\n",
       "      <th>revenue</th>\n",
       "      <th>outcalls</th>\n",
       "      <th>incalls</th>\n",
       "      <th>months</th>\n",
       "      <th>eqpdays</th>\n",
       "      <th>webcap</th>\n",
       "      <th>marryyes</th>\n",
       "      <th>travel</th>\n",
       "      <th>pcown</th>\n",
       "      <th>creditcd</th>\n",
       "      <th>retcalls</th>\n",
       "      <th>churnedep</th>\n",
       "    </tr>\n",
       "  </thead>\n",
       "  <tbody>\n",
       "    <tr>\n",
       "      <th>revenue</th>\n",
       "      <td>1.000000</td>\n",
       "      <td>0.495325</td>\n",
       "      <td>0.387724</td>\n",
       "      <td>-0.014367</td>\n",
       "      <td>-0.221142</td>\n",
       "      <td>0.105339</td>\n",
       "      <td>-0.094360</td>\n",
       "      <td>-0.044009</td>\n",
       "      <td>-0.083872</td>\n",
       "      <td>-0.091267</td>\n",
       "      <td>0.009783</td>\n",
       "      <td>-0.014763</td>\n",
       "    </tr>\n",
       "    <tr>\n",
       "      <th>outcalls</th>\n",
       "      <td>0.495325</td>\n",
       "      <td>1.000000</td>\n",
       "      <td>0.732143</td>\n",
       "      <td>-0.040066</td>\n",
       "      <td>-0.243295</td>\n",
       "      <td>0.113284</td>\n",
       "      <td>-0.128036</td>\n",
       "      <td>-0.041806</td>\n",
       "      <td>-0.095267</td>\n",
       "      <td>-0.102353</td>\n",
       "      <td>0.009563</td>\n",
       "      <td>-0.038824</td>\n",
       "    </tr>\n",
       "    <tr>\n",
       "      <th>incalls</th>\n",
       "      <td>0.387724</td>\n",
       "      <td>0.732143</td>\n",
       "      <td>1.000000</td>\n",
       "      <td>-0.026197</td>\n",
       "      <td>-0.203022</td>\n",
       "      <td>0.092098</td>\n",
       "      <td>-0.095086</td>\n",
       "      <td>-0.038207</td>\n",
       "      <td>-0.080634</td>\n",
       "      <td>-0.082739</td>\n",
       "      <td>0.004024</td>\n",
       "      <td>-0.048870</td>\n",
       "    </tr>\n",
       "    <tr>\n",
       "      <th>months</th>\n",
       "      <td>-0.014367</td>\n",
       "      <td>-0.040066</td>\n",
       "      <td>-0.026197</td>\n",
       "      <td>1.000000</td>\n",
       "      <td>0.486083</td>\n",
       "      <td>-0.253786</td>\n",
       "      <td>0.085188</td>\n",
       "      <td>0.043129</td>\n",
       "      <td>0.062814</td>\n",
       "      <td>0.140433</td>\n",
       "      <td>0.070180</td>\n",
       "      <td>0.020015</td>\n",
       "    </tr>\n",
       "    <tr>\n",
       "      <th>eqpdays</th>\n",
       "      <td>-0.221142</td>\n",
       "      <td>-0.243295</td>\n",
       "      <td>-0.203022</td>\n",
       "      <td>0.486083</td>\n",
       "      <td>1.000000</td>\n",
       "      <td>-0.394676</td>\n",
       "      <td>0.116509</td>\n",
       "      <td>0.045985</td>\n",
       "      <td>0.069876</td>\n",
       "      <td>0.126282</td>\n",
       "      <td>-0.024434</td>\n",
       "      <td>0.113483</td>\n",
       "    </tr>\n",
       "    <tr>\n",
       "      <th>webcap</th>\n",
       "      <td>0.105339</td>\n",
       "      <td>0.113284</td>\n",
       "      <td>0.092098</td>\n",
       "      <td>-0.253786</td>\n",
       "      <td>-0.394676</td>\n",
       "      <td>1.000000</td>\n",
       "      <td>-0.064043</td>\n",
       "      <td>-0.006294</td>\n",
       "      <td>-0.032139</td>\n",
       "      <td>-0.069340</td>\n",
       "      <td>-0.010326</td>\n",
       "      <td>-0.069161</td>\n",
       "    </tr>\n",
       "    <tr>\n",
       "      <th>marryyes</th>\n",
       "      <td>-0.094360</td>\n",
       "      <td>-0.128036</td>\n",
       "      <td>-0.095086</td>\n",
       "      <td>0.085188</td>\n",
       "      <td>0.116509</td>\n",
       "      <td>-0.064043</td>\n",
       "      <td>1.000000</td>\n",
       "      <td>0.145880</td>\n",
       "      <td>0.334120</td>\n",
       "      <td>0.435991</td>\n",
       "      <td>-0.022116</td>\n",
       "      <td>-0.008273</td>\n",
       "    </tr>\n",
       "    <tr>\n",
       "      <th>travel</th>\n",
       "      <td>-0.044009</td>\n",
       "      <td>-0.041806</td>\n",
       "      <td>-0.038207</td>\n",
       "      <td>0.043129</td>\n",
       "      <td>0.045985</td>\n",
       "      <td>-0.006294</td>\n",
       "      <td>0.145880</td>\n",
       "      <td>1.000000</td>\n",
       "      <td>0.255039</td>\n",
       "      <td>0.161568</td>\n",
       "      <td>-0.009353</td>\n",
       "      <td>-0.008789</td>\n",
       "    </tr>\n",
       "    <tr>\n",
       "      <th>pcown</th>\n",
       "      <td>-0.083872</td>\n",
       "      <td>-0.095267</td>\n",
       "      <td>-0.080634</td>\n",
       "      <td>0.062814</td>\n",
       "      <td>0.069876</td>\n",
       "      <td>-0.032139</td>\n",
       "      <td>0.334120</td>\n",
       "      <td>0.255039</td>\n",
       "      <td>1.000000</td>\n",
       "      <td>0.296541</td>\n",
       "      <td>-0.020355</td>\n",
       "      <td>-0.004782</td>\n",
       "    </tr>\n",
       "    <tr>\n",
       "      <th>creditcd</th>\n",
       "      <td>-0.091267</td>\n",
       "      <td>-0.102353</td>\n",
       "      <td>-0.082739</td>\n",
       "      <td>0.140433</td>\n",
       "      <td>0.126282</td>\n",
       "      <td>-0.069340</td>\n",
       "      <td>0.435991</td>\n",
       "      <td>0.161568</td>\n",
       "      <td>0.296541</td>\n",
       "      <td>1.000000</td>\n",
       "      <td>-0.004154</td>\n",
       "      <td>-0.013522</td>\n",
       "    </tr>\n",
       "    <tr>\n",
       "      <th>retcalls</th>\n",
       "      <td>0.009783</td>\n",
       "      <td>0.009563</td>\n",
       "      <td>0.004024</td>\n",
       "      <td>0.070180</td>\n",
       "      <td>-0.024434</td>\n",
       "      <td>-0.010326</td>\n",
       "      <td>-0.022116</td>\n",
       "      <td>-0.009353</td>\n",
       "      <td>-0.020355</td>\n",
       "      <td>-0.004154</td>\n",
       "      <td>1.000000</td>\n",
       "      <td>0.070721</td>\n",
       "    </tr>\n",
       "    <tr>\n",
       "      <th>churnedep</th>\n",
       "      <td>-0.014763</td>\n",
       "      <td>-0.038824</td>\n",
       "      <td>-0.048870</td>\n",
       "      <td>0.020015</td>\n",
       "      <td>0.113483</td>\n",
       "      <td>-0.069161</td>\n",
       "      <td>-0.008273</td>\n",
       "      <td>-0.008789</td>\n",
       "      <td>-0.004782</td>\n",
       "      <td>-0.013522</td>\n",
       "      <td>0.070721</td>\n",
       "      <td>1.000000</td>\n",
       "    </tr>\n",
       "  </tbody>\n",
       "</table>\n",
       "</div>"
      ],
      "text/plain": [
       "            revenue  outcalls   incalls    months   eqpdays    webcap  \\\n",
       "revenue    1.000000  0.495325  0.387724 -0.014367 -0.221142  0.105339   \n",
       "outcalls   0.495325  1.000000  0.732143 -0.040066 -0.243295  0.113284   \n",
       "incalls    0.387724  0.732143  1.000000 -0.026197 -0.203022  0.092098   \n",
       "months    -0.014367 -0.040066 -0.026197  1.000000  0.486083 -0.253786   \n",
       "eqpdays   -0.221142 -0.243295 -0.203022  0.486083  1.000000 -0.394676   \n",
       "webcap     0.105339  0.113284  0.092098 -0.253786 -0.394676  1.000000   \n",
       "marryyes  -0.094360 -0.128036 -0.095086  0.085188  0.116509 -0.064043   \n",
       "travel    -0.044009 -0.041806 -0.038207  0.043129  0.045985 -0.006294   \n",
       "pcown     -0.083872 -0.095267 -0.080634  0.062814  0.069876 -0.032139   \n",
       "creditcd  -0.091267 -0.102353 -0.082739  0.140433  0.126282 -0.069340   \n",
       "retcalls   0.009783  0.009563  0.004024  0.070180 -0.024434 -0.010326   \n",
       "churnedep -0.014763 -0.038824 -0.048870  0.020015  0.113483 -0.069161   \n",
       "\n",
       "           marryyes    travel     pcown  creditcd  retcalls  churnedep  \n",
       "revenue   -0.094360 -0.044009 -0.083872 -0.091267  0.009783  -0.014763  \n",
       "outcalls  -0.128036 -0.041806 -0.095267 -0.102353  0.009563  -0.038824  \n",
       "incalls   -0.095086 -0.038207 -0.080634 -0.082739  0.004024  -0.048870  \n",
       "months     0.085188  0.043129  0.062814  0.140433  0.070180   0.020015  \n",
       "eqpdays    0.116509  0.045985  0.069876  0.126282 -0.024434   0.113483  \n",
       "webcap    -0.064043 -0.006294 -0.032139 -0.069340 -0.010326  -0.069161  \n",
       "marryyes   1.000000  0.145880  0.334120  0.435991 -0.022116  -0.008273  \n",
       "travel     0.145880  1.000000  0.255039  0.161568 -0.009353  -0.008789  \n",
       "pcown      0.334120  0.255039  1.000000  0.296541 -0.020355  -0.004782  \n",
       "creditcd   0.435991  0.161568  0.296541  1.000000 -0.004154  -0.013522  \n",
       "retcalls  -0.022116 -0.009353 -0.020355 -0.004154  1.000000   0.070721  \n",
       "churnedep -0.008273 -0.008789 -0.004782 -0.013522  0.070721   1.000000  "
      ]
     },
     "execution_count": 6,
     "metadata": {},
     "output_type": "execute_result"
    }
   ],
   "source": [
    "# Computing pearson correlation to check relationship between features \n",
    "train_df.corr(method =\"pearson\")"
   ]
  },
  {
   "cell_type": "markdown",
   "metadata": {},
   "source": [
    "<p>\n",
    "<span style=\"color:blue\">\n",
    "From the above, we can see that for the top three important features- revenue, eqpdays and outcalls have the following vaules of correlation<br>\n",
    "\n",
    "revnue and eqpdays: -0.221142 (negatively correlated)<br>\n",
    "revenue and outcalls: 0.495325 (positively correlated)<br>\n",
    "outcalls and eqpdays: -0.243295 (negatively correlated)<br>\n",
    "churnedep and revenue: -0.014763 (negatively correlated)<br>\n",
    "churnedep and outcalls: -0.038824(negatively correlated)<br>\n",
    "churnedep and eqpdays: 0.113483 (positively correlated)<br><br>\n",
    "\n",
    "From the positive correlation between revenue and outcalls, and negative correlation between churnedep and outcalls and revenue, we can interpret that, customers having high average monthly revenue make more outbound calls which suggests that those customers find the services affordable and therefore would be okay with the current carrier and are less likely to churn. <br>\n",
    "Also, the negative correlation between outcalls and eqpdays, and a potitive correlation between churnedep and eqpdays suggests that as the number of days customer has had the equipment increases the outbound calls decreases maybe because of equipments slow down as they age and that makes them more likely to buy a new equipment which may make them flexible and open to other carriers and make them more likely to churn.\n",
    "\n",
    "</span>\n",
    "</p>"
   ]
  },
  {
   "cell_type": "markdown",
   "metadata": {},
   "source": [
    "6\\. Using the classifier built, try predicting `\"churndep\"` on both the train_df and test_df data sets. What is the accuracy on each?\n"
   ]
  },
  {
   "cell_type": "code",
   "execution_count": 7,
   "metadata": {},
   "outputs": [
    {
     "name": "stdout",
     "output_type": "stream",
     "text": [
      "accuracy on train_df is 99.9905914822 %\n",
      "accuracy on test_df is 52.082288008 %\n"
     ]
    }
   ],
   "source": [
    "train_df_accuracy = (dtc_model.score(x_train,y_train)*100)\n",
    "\n",
    "test_df_accuracy = (dtc_model.score(test_df.drop(\"churnedep\",1),test_df.churnedep)*100)\n",
    "\n",
    "print(\"accuracy on train_df is\",train_df_accuracy,\"%\")\n",
    "print(\"accuracy on test_df is\",test_df_accuracy,\"%\")"
   ]
  },
  {
   "cell_type": "markdown",
   "metadata": {},
   "source": [
    "#### Finding a Good Decision Tree \n",
    "The default options for your decision tree may not be optimal. We need to analyze whether tuning the parameters can improve the accuracy of the classifier."
   ]
  },
  {
   "cell_type": "markdown",
   "metadata": {},
   "source": [
    "1\\. Generate a list of 10 values of each for the parameters min_samples_split and min_samples_leaf. \n"
   ]
  },
  {
   "cell_type": "code",
   "execution_count": 8,
   "metadata": {},
   "outputs": [
    {
     "name": "stdout",
     "output_type": "stream",
     "text": [
      "min_samples_split: \n",
      "[ 128  188  276  406  597  877 1290 1896 2786 4096]\n",
      "min_samples_leaf: \n",
      "[  32   47   69  101  149  219  322  474  696 1024]\n"
     ]
    }
   ],
   "source": [
    "# using logspace to return numbers spaced evenly on a log scale\n",
    "# 6 , 4 to 11 \n",
    "min_samples_split = np.logspace(7.0,12.0,num =10, base = 2,dtype = int)\n",
    "min_samples_leaf = np.logspace(5.0,10.0,num =10, base = 2,dtype = int)\n",
    "\n",
    "print(\"min_samples_split: \")\n",
    "print(min_samples_split)\n",
    "print(\"min_samples_leaf: \")\n",
    "print(min_samples_leaf)"
   ]
  },
  {
   "cell_type": "markdown",
   "metadata": {},
   "source": [
    "<p>\n",
    "<span style=\"color:blue\">\n",
    "We know that choosing the default values for min_samples_split and min_samples_leaf which are 2 and 1 respectively are very low and would lead to overfitting. On the other hand, choosing a very high value, would not train the model correctly. Thus, choosing values which were not at the extremes and covers a properly distributed range would be a appropriate choice, and for that reason I went ahead with logspace for values spaced evenly on a log scale\n",
    "</span>\n",
    "</p>"
   ]
  },
  {
   "cell_type": "markdown",
   "metadata": {},
   "source": [
    "3\\. For each combination of values (there should be 100), build a new classifier and check the classifier's accuracy on the test data. Plot the test set accuracy for these options.\n"
   ]
  },
  {
   "cell_type": "code",
   "execution_count": 9,
   "metadata": {
    "collapsed": true
   },
   "outputs": [],
   "source": [
    "# dict to store the accuracy score\n",
    "accuracy = {}\n",
    "for samples in min_samples_split:\n",
    "    # making the value of min_samples_leaf as the key\n",
    "    accuracy[samples] = []\n",
    "\n",
    "maxi = -1\n",
    "max_leaf = 0\n",
    "max_split = 0\n",
    "\n",
    "# list to store the accuracy obtained by combinations \n",
    "#looping of min_samples_leaf for every min_samples_split paramter to build classifier\n",
    "for i in min_samples_split:\n",
    "    for j in min_samples_leaf:\n",
    "        clf = DecisionTreeClassifier(criterion = \"entropy\",min_samples_leaf = j,  min_samples_split = i) #defining the parameteter\n",
    "        # using x_train and y_train(label) to train the model\n",
    "        clf = clf.fit(x_train,y_train)\n",
    "        # appeding accuracy for test_df by checking the actual labels which corresponds to that min_samples_split through res\n",
    "        res = clf.score(test_df.drop(\"churnedep\",1),test_df.churnedep)\n",
    "        accuracy[i].append(res)\n",
    "        # just to get the precise result\n",
    "        if res > maxi:\n",
    "            maxi = res\n",
    "            max_leaf = j\n",
    "            max_split = i\n",
    "            \n"
   ]
  },
  {
   "cell_type": "code",
   "execution_count": 10,
   "metadata": {},
   "outputs": [
    {
     "data": {
      "image/png": "[encoded data removed]",
      "text/plain": [
       "<matplotlib.figure.Figure at 0x11891f048>"
      ]
     },
     "metadata": {},
     "output_type": "display_data"
    },
    {
     "name": "stdout",
     "output_type": "stream",
     "text": [
      "maximum accuracy 0.595333667837 for min sample leaf value 149 and min sample split 4096\n"
     ]
    }
   ],
   "source": [
    "# defining a list with colors for different combinations \n",
    "colors = [\"b\",\"r\",\"y\",\"g\",\"m\",\"c\",\"k\",\"peachpuff\",\"coral\",\"palegreen\"]\n",
    "\n",
    "fig = plt.figure(figsize = (14, 8))\n",
    "# for every min_samples_split, plotting a new line with min_sample_leaf on the x-axis\n",
    "for sample in min_samples_split:\n",
    "    plt.plot((min_samples_leaf), accuracy[sample],color= colors.pop(), label='split = {}'.format(np.floor(sample)))\n",
    "    \n",
    "plt.xlabel('min samples leaf')\n",
    "plt.ylabel('Accuracy')\n",
    "plt.legend(loc='lower right')\n",
    "plt.show()\n",
    "\n",
    "print(\"maximum accuracy\", maxi, \"for min sample leaf value\",max_leaf,\"and min sample split\",max_split)"
   ]
  },
  {
   "cell_type": "markdown",
   "metadata": {
    "collapsed": true
   },
   "source": [
    "<p>\n",
    "<span style=\"color:blue\">\n",
    "As we can see from the plot, when the min samples leaf is 149 and min sample split is 4096, we get the best accuracy which is around 59.53%\n",
    "</span>\n",
    "</p>"
   ]
  },
  {
   "cell_type": "markdown",
   "metadata": {},
   "source": [
    "<p>\n",
    "<span style=\"color:blue\">\n",
    "Churn prediction model would be very essential and profitable for a real business environment. It would helps us not only to learn why customers are churning to help us shape our services to avoid loss in future but also give us time to come up strategies to retain them. <br>\n",
    "With the help of a good prediction model, we can identify the customers who are at a risk of leaving and offer them with apporiate offers and promotions which would persuade the customers to stay in the business. It could be something like free rewards or other incentives on their plans. We can also use the churn model and find potential customers who are likely to churn and provide them with offers that would entice them to join the business. For example, these days, we have buy 1 get 1 iphone phones from specific carriers to encourage a person buying a new phone to avail this offer from the specific telecom company. A churn prediction model could be very useful in shaping such strategies to keep the existing customers and get more.\n",
    "</span>\n",
    "</p>"
   ]
  }
 ],
 "metadata": {
  "kernelspec": {
   "display_name": "Python 3",
   "language": "python",
   "name": "python3"
  },
  "language_info": {
   "codemirror_mode": {
    "name": "ipython",
    "version": 3
   },
   "file_extension": ".py",
   "mimetype": "text/x-python",
   "name": "python",
   "nbconvert_exporter": "python",
   "pygments_lexer": "ipython3",
   "version": "3.6.3"
  }
 },
 "nbformat": 4,
 "nbformat_minor": 1
}
